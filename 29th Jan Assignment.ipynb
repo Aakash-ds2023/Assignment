{
 "cells": [
  {
   "cell_type": "code",
   "execution_count": 2,
   "id": "638f02e6-b04c-4625-8c9d-711935486f49",
   "metadata": {},
   "outputs": [],
   "source": [
    "#1.\n",
    "Guido van Rossum"
   ]
  },
  {
   "cell_type": "code",
   "execution_count": 3,
   "id": "4876679d-5449-40b6-a7f2-040c789b0a0c",
   "metadata": {},
   "outputs": [],
   "source": [
    "#2.\n",
    "Object-oriented programming and structured programming"
   ]
  },
  {
   "cell_type": "code",
   "execution_count": 4,
   "id": "bfe80fae-8f1d-484c-84dc-84a8e4d31bb0",
   "metadata": {},
   "outputs": [],
   "source": [
    "#3.\n",
    "Yes, Python is a case-sensitive language, i.e., it treats uppercase and lowercase characters differently. This applies to identifiers too."
   ]
  },
  {
   "cell_type": "code",
   "execution_count": 5,
   "id": "a6de5362-81ad-4a82-93e9-026a53d53fb7",
   "metadata": {},
   "outputs": [],
   "source": [
    "#4.\n",
    "Interpreted"
   ]
  },
  {
   "cell_type": "code",
   "execution_count": 12,
   "id": "2ce5b15a-74d1-4556-93f8-befb9f3d5de7",
   "metadata": {},
   "outputs": [],
   "source": [
    "#5.\n",
    "\".py\""
   ]
  },
  {
   "cell_type": "code",
   "execution_count": 7,
   "id": "bb945ad7-e930-4a70-84a2-e86109b88d74",
   "metadata": {},
   "outputs": [],
   "source": [
    "#6.\n",
    "Module\n",
    "function\n",
    "class definition"
   ]
  },
  {
   "cell_type": "code",
   "execution_count": 8,
   "id": "adf1562a-e8df-4f46-bd04-ccab062a76d1",
   "metadata": {},
   "outputs": [],
   "source": [
    "#7.\n",
    "Hash character(#)"
   ]
  },
  {
   "cell_type": "code",
   "execution_count": 9,
   "id": "a55a25c1-be97-4038-b4ab-99c3784ecae6",
   "metadata": {},
   "outputs": [],
   "source": [
    "#8.\n",
    "python_version()"
   ]
  },
  {
   "cell_type": "code",
   "execution_count": 10,
   "id": "c12ba400-626a-47ae-8305-8d4a9137a5ac",
   "metadata": {},
   "outputs": [],
   "source": [
    "#9.\n",
    "lambda"
   ]
  },
  {
   "cell_type": "code",
   "execution_count": null,
   "id": "60941328-9d55-4065-a916-622ec07ddd32",
   "metadata": {},
   "outputs": [],
   "source": [
    "#10.\n",
    "preferred installer program"
   ]
  },
  {
   "cell_type": "code",
   "execution_count": null,
   "id": "5e294df7-ef34-4270-b8ad-0bd306db4831",
   "metadata": {},
   "outputs": [],
   "source": [
    "#11.\n",
    "int()\n",
    "float()\n",
    "max()\n",
    "min()\n",
    "input()\n",
    "list()\n",
    "set()"
   ]
  },
  {
   "cell_type": "code",
   "execution_count": null,
   "id": "084e047a-723c-459f-af9c-d6b4be9ddf69",
   "metadata": {},
   "outputs": [],
   "source": [
    "#12.\n",
    "79 characters"
   ]
  },
  {
   "cell_type": "code",
   "execution_count": null,
   "id": "5e1e5271-3ae3-4823-bb0d-39f1439e54b6",
   "metadata": {},
   "outputs": [],
   "source": [
    "#13.\n",
    "It's easy to read, learn, and write. This is one of the key advantages of Python.\n",
    "Increased Productivity. Python is a very useful programming language.\n",
    "Interpreted Language.\n",
    "Dynamically Typed.\n",
    "Open Source and Free.\n",
    "Vast Libraries Support.\n",
    "Portability."
   ]
  },
  {
   "cell_type": "code",
   "execution_count": null,
   "id": "e7e8748d-530c-4d24-92f9-1b925d19c873",
   "metadata": {},
   "outputs": [],
   "source": [
    "#14\n",
    "Memory management in Python involves a private heap containing all Python objects and data structures."
   ]
  },
  {
   "cell_type": "code",
   "execution_count": null,
   "id": "be0a01c2-76cf-47f0-ab38-20498b9a33c0",
   "metadata": {},
   "outputs": [],
   "source": [
    "#15\n",
    "Install python from google: link: https://www.python.org/downloads/\n",
    "After this, install it on your PC. Look for the location where PYTHON has been installed on your PC using the following command on your command prompt: cmd python.\n",
    "Then go to advanced system settings and add new variable and name it as PYTHON_NAME and paste the copied path.\n",
    "Then look for the path variable, select it's value and select edit\n",
    "Add a semicolon towards the end of the value if it's not present and then type %PYTHON_HOME%"
   ]
  },
  {
   "cell_type": "code",
   "execution_count": null,
   "id": "b97f065b-7207-4c07-9fc7-9ec5bd395f6a",
   "metadata": {},
   "outputs": [],
   "source": [
    "#16\n",
    "Yes i"
   ]
  }
 ],
 "metadata": {
  "kernelspec": {
   "display_name": "Python 3 (ipykernel)",
   "language": "python",
   "name": "python3"
  },
  "language_info": {
   "codemirror_mode": {
    "name": "ipython",
    "version": 3
   },
   "file_extension": ".py",
   "mimetype": "text/x-python",
   "name": "python",
   "nbconvert_exporter": "python",
   "pygments_lexer": "ipython3",
   "version": "3.10.8"
  }
 },
 "nbformat": 4,
 "nbformat_minor": 5
}
